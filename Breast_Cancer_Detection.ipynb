{
  "nbformat": 4,
  "nbformat_minor": 0,
  "metadata": {
    "colab": {
      "name": "Breast Cancer Detection",
      "provenance": []
    },
    "kernelspec": {
      "name": "python3",
      "display_name": "Python 3"
    },
    "language_info": {
      "name": "python"
    }
  },
  "cells": [
    {
      "cell_type": "code",
      "metadata": {
        "id": "_06YM2chm94E"
      },
      "source": [
        "\n",
        "import pandas as pd\n",
        "import numpy as np\n",
        "\n",
        "from sklearn.datasets import load_breast_cancer\n",
        "from sklearn.preprocessing import StandardScaler\n",
        "\n",
        "from keras.models import Sequential\n",
        "from keras.layers import Dense"
      ],
      "execution_count": 1,
      "outputs": []
    },
    {
      "cell_type": "code",
      "metadata": {
        "id": "vm0aprESqBV3"
      },
      "source": [
        "\n",
        "data = load_breast_cancer()"
      ],
      "execution_count": 2,
      "outputs": []
    },
    {
      "cell_type": "code",
      "metadata": {
        "colab": {
          "base_uri": "https://localhost:8080/"
        },
        "id": "6snRUpNKqCPb",
        "outputId": "ef27709e-da0f-4704-d137-d93c2067d27d"
      },
      "source": [
        "\n",
        "data.keys()"
      ],
      "execution_count": 3,
      "outputs": [
        {
          "output_type": "execute_result",
          "data": {
            "text/plain": [
              "dict_keys(['data', 'target', 'target_names', 'DESCR', 'feature_names', 'filename'])"
            ]
          },
          "metadata": {},
          "execution_count": 3
        }
      ]
    },
    {
      "cell_type": "code",
      "metadata": {
        "colab": {
          "base_uri": "https://localhost:8080/"
        },
        "id": "BuXG2dJkqFV0",
        "outputId": "6096bd1c-9e45-4c81-ee38-24427087992c"
      },
      "source": [
        "print(data['DESCR'])"
      ],
      "execution_count": 4,
      "outputs": [
        {
          "output_type": "stream",
          "name": "stdout",
          "text": [
            ".. _breast_cancer_dataset:\n",
            "\n",
            "Breast cancer wisconsin (diagnostic) dataset\n",
            "--------------------------------------------\n",
            "\n",
            "**Data Set Characteristics:**\n",
            "\n",
            "    :Number of Instances: 569\n",
            "\n",
            "    :Number of Attributes: 30 numeric, predictive attributes and the class\n",
            "\n",
            "    :Attribute Information:\n",
            "        - radius (mean of distances from center to points on the perimeter)\n",
            "        - texture (standard deviation of gray-scale values)\n",
            "        - perimeter\n",
            "        - area\n",
            "        - smoothness (local variation in radius lengths)\n",
            "        - compactness (perimeter^2 / area - 1.0)\n",
            "        - concavity (severity of concave portions of the contour)\n",
            "        - concave points (number of concave portions of the contour)\n",
            "        - symmetry \n",
            "        - fractal dimension (\"coastline approximation\" - 1)\n",
            "\n",
            "        The mean, standard error, and \"worst\" or largest (mean of the three\n",
            "        largest values) of these features were computed for each image,\n",
            "        resulting in 30 features.  For instance, field 3 is Mean Radius, field\n",
            "        13 is Radius SE, field 23 is Worst Radius.\n",
            "\n",
            "        - class:\n",
            "                - WDBC-Malignant\n",
            "                - WDBC-Benign\n",
            "\n",
            "    :Summary Statistics:\n",
            "\n",
            "    ===================================== ====== ======\n",
            "                                           Min    Max\n",
            "    ===================================== ====== ======\n",
            "    radius (mean):                        6.981  28.11\n",
            "    texture (mean):                       9.71   39.28\n",
            "    perimeter (mean):                     43.79  188.5\n",
            "    area (mean):                          143.5  2501.0\n",
            "    smoothness (mean):                    0.053  0.163\n",
            "    compactness (mean):                   0.019  0.345\n",
            "    concavity (mean):                     0.0    0.427\n",
            "    concave points (mean):                0.0    0.201\n",
            "    symmetry (mean):                      0.106  0.304\n",
            "    fractal dimension (mean):             0.05   0.097\n",
            "    radius (standard error):              0.112  2.873\n",
            "    texture (standard error):             0.36   4.885\n",
            "    perimeter (standard error):           0.757  21.98\n",
            "    area (standard error):                6.802  542.2\n",
            "    smoothness (standard error):          0.002  0.031\n",
            "    compactness (standard error):         0.002  0.135\n",
            "    concavity (standard error):           0.0    0.396\n",
            "    concave points (standard error):      0.0    0.053\n",
            "    symmetry (standard error):            0.008  0.079\n",
            "    fractal dimension (standard error):   0.001  0.03\n",
            "    radius (worst):                       7.93   36.04\n",
            "    texture (worst):                      12.02  49.54\n",
            "    perimeter (worst):                    50.41  251.2\n",
            "    area (worst):                         185.2  4254.0\n",
            "    smoothness (worst):                   0.071  0.223\n",
            "    compactness (worst):                  0.027  1.058\n",
            "    concavity (worst):                    0.0    1.252\n",
            "    concave points (worst):               0.0    0.291\n",
            "    symmetry (worst):                     0.156  0.664\n",
            "    fractal dimension (worst):            0.055  0.208\n",
            "    ===================================== ====== ======\n",
            "\n",
            "    :Missing Attribute Values: None\n",
            "\n",
            "    :Class Distribution: 212 - Malignant, 357 - Benign\n",
            "\n",
            "    :Creator:  Dr. William H. Wolberg, W. Nick Street, Olvi L. Mangasarian\n",
            "\n",
            "    :Donor: Nick Street\n",
            "\n",
            "    :Date: November, 1995\n",
            "\n",
            "This is a copy of UCI ML Breast Cancer Wisconsin (Diagnostic) datasets.\n",
            "https://goo.gl/U2Uwz2\n",
            "\n",
            "Features are computed from a digitized image of a fine needle\n",
            "aspirate (FNA) of a breast mass.  They describe\n",
            "characteristics of the cell nuclei present in the image.\n",
            "\n",
            "Separating plane described above was obtained using\n",
            "Multisurface Method-Tree (MSM-T) [K. P. Bennett, \"Decision Tree\n",
            "Construction Via Linear Programming.\" Proceedings of the 4th\n",
            "Midwest Artificial Intelligence and Cognitive Science Society,\n",
            "pp. 97-101, 1992], a classification method which uses linear\n",
            "programming to construct a decision tree.  Relevant features\n",
            "were selected using an exhaustive search in the space of 1-4\n",
            "features and 1-3 separating planes.\n",
            "\n",
            "The actual linear program used to obtain the separating plane\n",
            "in the 3-dimensional space is that described in:\n",
            "[K. P. Bennett and O. L. Mangasarian: \"Robust Linear\n",
            "Programming Discrimination of Two Linearly Inseparable Sets\",\n",
            "Optimization Methods and Software 1, 1992, 23-34].\n",
            "\n",
            "This database is also available through the UW CS ftp server:\n",
            "\n",
            "ftp ftp.cs.wisc.edu\n",
            "cd math-prog/cpo-dataset/machine-learn/WDBC/\n",
            "\n",
            ".. topic:: References\n",
            "\n",
            "   - W.N. Street, W.H. Wolberg and O.L. Mangasarian. Nuclear feature extraction \n",
            "     for breast tumor diagnosis. IS&T/SPIE 1993 International Symposium on \n",
            "     Electronic Imaging: Science and Technology, volume 1905, pages 861-870,\n",
            "     San Jose, CA, 1993.\n",
            "   - O.L. Mangasarian, W.N. Street and W.H. Wolberg. Breast cancer diagnosis and \n",
            "     prognosis via linear programming. Operations Research, 43(4), pages 570-577, \n",
            "     July-August 1995.\n",
            "   - W.H. Wolberg, W.N. Street, and O.L. Mangasarian. Machine learning techniques\n",
            "     to diagnose breast cancer from fine-needle aspirates. Cancer Letters 77 (1994) \n",
            "     163-171.\n"
          ]
        }
      ]
    },
    {
      "cell_type": "code",
      "metadata": {
        "colab": {
          "base_uri": "https://localhost:8080/"
        },
        "id": "T8mKCAVDqHuA",
        "outputId": "3ba17ff4-612a-42a3-8ea5-b4883c3f9404"
      },
      "source": [
        "\n",
        "data['data'].shape"
      ],
      "execution_count": 5,
      "outputs": [
        {
          "output_type": "execute_result",
          "data": {
            "text/plain": [
              "(569, 30)"
            ]
          },
          "metadata": {},
          "execution_count": 5
        }
      ]
    },
    {
      "cell_type": "code",
      "metadata": {
        "colab": {
          "base_uri": "https://localhost:8080/"
        },
        "id": "PzTCKXG8qJ4L",
        "outputId": "8c39502a-2f3d-46aa-e999-532ef07475da"
      },
      "source": [
        "data['feature_names']"
      ],
      "execution_count": 6,
      "outputs": [
        {
          "output_type": "execute_result",
          "data": {
            "text/plain": [
              "array(['mean radius', 'mean texture', 'mean perimeter', 'mean area',\n",
              "       'mean smoothness', 'mean compactness', 'mean concavity',\n",
              "       'mean concave points', 'mean symmetry', 'mean fractal dimension',\n",
              "       'radius error', 'texture error', 'perimeter error', 'area error',\n",
              "       'smoothness error', 'compactness error', 'concavity error',\n",
              "       'concave points error', 'symmetry error',\n",
              "       'fractal dimension error', 'worst radius', 'worst texture',\n",
              "       'worst perimeter', 'worst area', 'worst smoothness',\n",
              "       'worst compactness', 'worst concavity', 'worst concave points',\n",
              "       'worst symmetry', 'worst fractal dimension'], dtype='<U23')"
            ]
          },
          "metadata": {},
          "execution_count": 6
        }
      ]
    },
    {
      "cell_type": "code",
      "metadata": {
        "colab": {
          "base_uri": "https://localhost:8080/"
        },
        "id": "iasAdLyzqMAC",
        "outputId": "ae162baf-2791-4b77-e169-251a9cd125b1"
      },
      "source": [
        "data['data'][0]"
      ],
      "execution_count": 7,
      "outputs": [
        {
          "output_type": "execute_result",
          "data": {
            "text/plain": [
              "array([1.799e+01, 1.038e+01, 1.228e+02, 1.001e+03, 1.184e-01, 2.776e-01,\n",
              "       3.001e-01, 1.471e-01, 2.419e-01, 7.871e-02, 1.095e+00, 9.053e-01,\n",
              "       8.589e+00, 1.534e+02, 6.399e-03, 4.904e-02, 5.373e-02, 1.587e-02,\n",
              "       3.003e-02, 6.193e-03, 2.538e+01, 1.733e+01, 1.846e+02, 2.019e+03,\n",
              "       1.622e-01, 6.656e-01, 7.119e-01, 2.654e-01, 4.601e-01, 1.189e-01])"
            ]
          },
          "metadata": {},
          "execution_count": 7
        }
      ]
    },
    {
      "cell_type": "code",
      "metadata": {
        "colab": {
          "base_uri": "https://localhost:8080/"
        },
        "id": "dJGsGRfOqN44",
        "outputId": "fbc1cf37-ebfa-4676-ec1c-1d31c42c7888"
      },
      "source": [
        "j = 0\n",
        "for i in data['feature_names']:\n",
        "  print(i,\":\",data['data'][0][j])\n",
        "  j+=1"
      ],
      "execution_count": 8,
      "outputs": [
        {
          "output_type": "stream",
          "name": "stdout",
          "text": [
            "mean radius : 17.99\n",
            "mean texture : 10.38\n",
            "mean perimeter : 122.8\n",
            "mean area : 1001.0\n",
            "mean smoothness : 0.1184\n",
            "mean compactness : 0.2776\n",
            "mean concavity : 0.3001\n",
            "mean concave points : 0.1471\n",
            "mean symmetry : 0.2419\n",
            "mean fractal dimension : 0.07871\n",
            "radius error : 1.095\n",
            "texture error : 0.9053\n",
            "perimeter error : 8.589\n",
            "area error : 153.4\n",
            "smoothness error : 0.006399\n",
            "compactness error : 0.04904\n",
            "concavity error : 0.05373\n",
            "concave points error : 0.01587\n",
            "symmetry error : 0.03003\n",
            "fractal dimension error : 0.006193\n",
            "worst radius : 25.38\n",
            "worst texture : 17.33\n",
            "worst perimeter : 184.6\n",
            "worst area : 2019.0\n",
            "worst smoothness : 0.1622\n",
            "worst compactness : 0.6656\n",
            "worst concavity : 0.7119\n",
            "worst concave points : 0.2654\n",
            "worst symmetry : 0.4601\n",
            "worst fractal dimension : 0.1189\n"
          ]
        }
      ]
    },
    {
      "cell_type": "code",
      "metadata": {
        "id": "-su30tN6qP62"
      },
      "source": [
        "feature = data['data']"
      ],
      "execution_count": 9,
      "outputs": []
    },
    {
      "cell_type": "code",
      "metadata": {
        "id": "7_5MMTMyqTVU"
      },
      "source": [
        "label = data['target']"
      ],
      "execution_count": 10,
      "outputs": []
    },
    {
      "cell_type": "code",
      "metadata": {
        "colab": {
          "base_uri": "https://localhost:8080/"
        },
        "id": "IzkCMCpkqVLj",
        "outputId": "e775dcf9-de14-43d2-f21d-1b51dc854f95"
      },
      "source": [
        "data['target_names']"
      ],
      "execution_count": 12,
      "outputs": [
        {
          "output_type": "execute_result",
          "data": {
            "text/plain": [
              "array(['malignant', 'benign'], dtype='<U9')"
            ]
          },
          "metadata": {},
          "execution_count": 12
        }
      ]
    },
    {
      "cell_type": "code",
      "metadata": {
        "colab": {
          "base_uri": "https://localhost:8080/"
        },
        "id": "afRXvjrEqZCK",
        "outputId": "319e03cd-8e02-4f74-ca2d-08598eea60b2"
      },
      "source": [
        "\n",
        "feature.shape"
      ],
      "execution_count": 13,
      "outputs": [
        {
          "output_type": "execute_result",
          "data": {
            "text/plain": [
              "(569, 30)"
            ]
          },
          "metadata": {},
          "execution_count": 13
        }
      ]
    },
    {
      "cell_type": "code",
      "metadata": {
        "colab": {
          "base_uri": "https://localhost:8080/"
        },
        "id": "zfW9eSvfqZqI",
        "outputId": "1a0ffbcb-cdbd-4a5b-998e-a0d67e9913db"
      },
      "source": [
        "\n",
        "label.shape"
      ],
      "execution_count": 14,
      "outputs": [
        {
          "output_type": "execute_result",
          "data": {
            "text/plain": [
              "(569,)"
            ]
          },
          "metadata": {},
          "execution_count": 14
        }
      ]
    },
    {
      "cell_type": "code",
      "metadata": {
        "id": "osTGjgbMqbg5"
      },
      "source": [
        "\n",
        "scale = StandardScaler()\n",
        "\n",
        "feature = scale.fit_transform(feature)"
      ],
      "execution_count": 15,
      "outputs": []
    },
    {
      "cell_type": "code",
      "metadata": {
        "colab": {
          "base_uri": "https://localhost:8080/"
        },
        "id": "VQ3jtIwiqdcz",
        "outputId": "3336748e-cbad-4644-ef0a-1a1772a72347"
      },
      "source": [
        "\n",
        "j = 0\n",
        "for i in data['feature_names']:\n",
        "  print(i,\":\",feature[0][j])\n",
        "  j+=1"
      ],
      "execution_count": 16,
      "outputs": [
        {
          "output_type": "stream",
          "name": "stdout",
          "text": [
            "mean radius : 1.0970639814699807\n",
            "mean texture : -2.0733350146975935\n",
            "mean perimeter : 1.2699336881399383\n",
            "mean area : 0.9843749048031144\n",
            "mean smoothness : 1.568466329243428\n",
            "mean compactness : 3.2835146709868264\n",
            "mean concavity : 2.652873983743168\n",
            "mean concave points : 2.532475216403245\n",
            "mean symmetry : 2.2175150059646405\n",
            "mean fractal dimension : 2.255746885296269\n",
            "radius error : 2.4897339267376193\n",
            "texture error : -0.5652650590684639\n",
            "perimeter error : 2.833030865855184\n",
            "area error : 2.4875775569611043\n",
            "smoothness error : -0.21400164666895383\n",
            "compactness error : 1.3168615683959484\n",
            "concavity error : 0.72402615808036\n",
            "concave points error : 0.6608199414286064\n",
            "symmetry error : 1.1487566671861758\n",
            "fractal dimension error : 0.9070830809973359\n",
            "worst radius : 1.8866896251792757\n",
            "worst texture : -1.3592934737640827\n",
            "worst perimeter : 2.3036006236225606\n",
            "worst area : 2.0012374893299207\n",
            "worst smoothness : 1.3076862710715387\n",
            "worst compactness : 2.616665023512603\n",
            "worst concavity : 2.1095263465722556\n",
            "worst concave points : 2.296076127561788\n",
            "worst symmetry : 2.750622244124955\n",
            "worst fractal dimension : 1.9370146123781782\n"
          ]
        }
      ]
    },
    {
      "cell_type": "code",
      "metadata": {
        "colab": {
          "base_uri": "https://localhost:8080/"
        },
        "id": "X_T4rYVQqgju",
        "outputId": "263c1b1d-1633-46c8-ca4d-525e0ed6b8d5"
      },
      "source": [
        "print(feature[568])\n",
        "print(data['target_names'][label[568]],label[568])"
      ],
      "execution_count": 17,
      "outputs": [
        {
          "output_type": "stream",
          "name": "stdout",
          "text": [
            "[-1.80840125  1.22179204 -1.81438851 -1.34778924 -3.11208479 -1.15075248\n",
            " -1.11487284 -1.26181958 -0.8200699  -0.56103238 -0.07027874  0.3830925\n",
            " -0.15744905 -0.46615196  0.04934236 -1.16351619 -1.05750068 -1.91344745\n",
            "  0.75282996 -0.382754   -1.41089258  0.76418957 -1.43273495 -1.07581292\n",
            " -1.85901852 -1.2075525  -1.30583065 -1.74506282 -0.04813821 -0.75120669]\n",
            "benign 1\n"
          ]
        }
      ]
    },
    {
      "cell_type": "code",
      "metadata": {
        "id": "IJq74pb0qihK"
      },
      "source": [
        "df_frt = pd.DataFrame(feature , columns = data['feature_names'])\n",
        "df_lbl = pd.DataFrame(label , columns = ['label'])\n",
        "df = pd.concat([df_frt, df_lbl], axis=1)\n",
        "df = df.sample(frac = 1)\n",
        "\n",
        "feature = df.values[ : , : 30]\n",
        "label = df.values[ : ,30: ]"
      ],
      "execution_count": 18,
      "outputs": []
    },
    {
      "cell_type": "code",
      "metadata": {
        "colab": {
          "base_uri": "https://localhost:8080/",
          "height": 470
        },
        "id": "f1EhwXN4qkqy",
        "outputId": "cfe7532b-a928-4ca3-e544-d95a2dbc4f4e"
      },
      "source": [
        "df\n"
      ],
      "execution_count": 19,
      "outputs": [
        {
          "output_type": "execute_result",
          "data": {
            "text/html": [
              "<div>\n",
              "<style scoped>\n",
              "    .dataframe tbody tr th:only-of-type {\n",
              "        vertical-align: middle;\n",
              "    }\n",
              "\n",
              "    .dataframe tbody tr th {\n",
              "        vertical-align: top;\n",
              "    }\n",
              "\n",
              "    .dataframe thead th {\n",
              "        text-align: right;\n",
              "    }\n",
              "</style>\n",
              "<table border=\"1\" class=\"dataframe\">\n",
              "  <thead>\n",
              "    <tr style=\"text-align: right;\">\n",
              "      <th></th>\n",
              "      <th>mean radius</th>\n",
              "      <th>mean texture</th>\n",
              "      <th>mean perimeter</th>\n",
              "      <th>mean area</th>\n",
              "      <th>mean smoothness</th>\n",
              "      <th>mean compactness</th>\n",
              "      <th>mean concavity</th>\n",
              "      <th>mean concave points</th>\n",
              "      <th>mean symmetry</th>\n",
              "      <th>mean fractal dimension</th>\n",
              "      <th>radius error</th>\n",
              "      <th>texture error</th>\n",
              "      <th>perimeter error</th>\n",
              "      <th>area error</th>\n",
              "      <th>smoothness error</th>\n",
              "      <th>compactness error</th>\n",
              "      <th>concavity error</th>\n",
              "      <th>concave points error</th>\n",
              "      <th>symmetry error</th>\n",
              "      <th>fractal dimension error</th>\n",
              "      <th>worst radius</th>\n",
              "      <th>worst texture</th>\n",
              "      <th>worst perimeter</th>\n",
              "      <th>worst area</th>\n",
              "      <th>worst smoothness</th>\n",
              "      <th>worst compactness</th>\n",
              "      <th>worst concavity</th>\n",
              "      <th>worst concave points</th>\n",
              "      <th>worst symmetry</th>\n",
              "      <th>worst fractal dimension</th>\n",
              "      <th>label</th>\n",
              "    </tr>\n",
              "  </thead>\n",
              "  <tbody>\n",
              "    <tr>\n",
              "      <th>396</th>\n",
              "      <td>-0.175320</td>\n",
              "      <td>-0.093001</td>\n",
              "      <td>-0.159366</td>\n",
              "      <td>-0.275278</td>\n",
              "      <td>0.678898</td>\n",
              "      <td>0.196319</td>\n",
              "      <td>-0.037656</td>\n",
              "      <td>0.126155</td>\n",
              "      <td>-0.020513</td>\n",
              "      <td>-0.284600</td>\n",
              "      <td>-0.691424</td>\n",
              "      <td>0.208915</td>\n",
              "      <td>-0.669806</td>\n",
              "      <td>-0.463072</td>\n",
              "      <td>-0.533015</td>\n",
              "      <td>-0.330203</td>\n",
              "      <td>0.038007</td>\n",
              "      <td>0.303959</td>\n",
              "      <td>-0.895048</td>\n",
              "      <td>-0.503416</td>\n",
              "      <td>-0.304244</td>\n",
              "      <td>0.247975</td>\n",
              "      <td>-0.295809</td>\n",
              "      <td>-0.361046</td>\n",
              "      <td>0.457270</td>\n",
              "      <td>0.017398</td>\n",
              "      <td>0.343558</td>\n",
              "      <td>0.467362</td>\n",
              "      <td>-0.379783</td>\n",
              "      <td>-0.392666</td>\n",
              "      <td>1</td>\n",
              "    </tr>\n",
              "    <tr>\n",
              "      <th>331</th>\n",
              "      <td>-0.325847</td>\n",
              "      <td>0.014044</td>\n",
              "      <td>-0.306827</td>\n",
              "      <td>-0.400703</td>\n",
              "      <td>-0.040584</td>\n",
              "      <td>0.154625</td>\n",
              "      <td>-0.222591</td>\n",
              "      <td>-0.500897</td>\n",
              "      <td>-0.184806</td>\n",
              "      <td>0.368916</td>\n",
              "      <td>-0.493639</td>\n",
              "      <td>-1.180146</td>\n",
              "      <td>-0.198537</td>\n",
              "      <td>-0.433149</td>\n",
              "      <td>-0.438011</td>\n",
              "      <td>0.395243</td>\n",
              "      <td>0.399087</td>\n",
              "      <td>-0.322008</td>\n",
              "      <td>0.843639</td>\n",
              "      <td>0.293938</td>\n",
              "      <td>-0.382935</td>\n",
              "      <td>-0.606955</td>\n",
              "      <td>-0.239812</td>\n",
              "      <td>-0.432944</td>\n",
              "      <td>-0.156432</td>\n",
              "      <td>0.451882</td>\n",
              "      <td>0.344038</td>\n",
              "      <td>-0.244025</td>\n",
              "      <td>1.124753</td>\n",
              "      <td>0.427488</td>\n",
              "      <td>1</td>\n",
              "    </tr>\n",
              "    <tr>\n",
              "      <th>49</th>\n",
              "      <td>-0.181000</td>\n",
              "      <td>0.700529</td>\n",
              "      <td>-0.208383</td>\n",
              "      <td>-0.267030</td>\n",
              "      <td>-0.629123</td>\n",
              "      <td>-0.518531</td>\n",
              "      <td>-0.518386</td>\n",
              "      <td>-0.388951</td>\n",
              "      <td>-0.009560</td>\n",
              "      <td>-0.796355</td>\n",
              "      <td>-0.618518</td>\n",
              "      <td>0.247017</td>\n",
              "      <td>-0.559909</td>\n",
              "      <td>-0.443050</td>\n",
              "      <td>-0.862028</td>\n",
              "      <td>-0.651568</td>\n",
              "      <td>-0.362861</td>\n",
              "      <td>0.007115</td>\n",
              "      <td>-0.500333</td>\n",
              "      <td>-0.695568</td>\n",
              "      <td>-0.231765</td>\n",
              "      <td>1.000313</td>\n",
              "      <td>-0.246067</td>\n",
              "      <td>-0.319559</td>\n",
              "      <td>-0.708765</td>\n",
              "      <td>-0.529046</td>\n",
              "      <td>-0.211036</td>\n",
              "      <td>0.206987</td>\n",
              "      <td>-0.048138</td>\n",
              "      <td>-0.818814</td>\n",
              "      <td>1</td>\n",
              "    </tr>\n",
              "    <tr>\n",
              "      <th>28</th>\n",
              "      <td>0.333066</td>\n",
              "      <td>1.391668</td>\n",
              "      <td>0.429654</td>\n",
              "      <td>0.220449</td>\n",
              "      <td>0.842579</td>\n",
              "      <td>1.238650</td>\n",
              "      <td>0.998129</td>\n",
              "      <td>0.995412</td>\n",
              "      <td>0.417600</td>\n",
              "      <td>0.368916</td>\n",
              "      <td>0.122092</td>\n",
              "      <td>-0.371675</td>\n",
              "      <td>0.312830</td>\n",
              "      <td>0.069590</td>\n",
              "      <td>-0.602684</td>\n",
              "      <td>0.284582</td>\n",
              "      <td>0.128194</td>\n",
              "      <td>-0.156717</td>\n",
              "      <td>-0.346563</td>\n",
              "      <td>-0.313156</td>\n",
              "      <td>0.828498</td>\n",
              "      <td>1.796619</td>\n",
              "      <td>1.252161</td>\n",
              "      <td>0.682803</td>\n",
              "      <td>1.390974</td>\n",
              "      <td>2.269333</td>\n",
              "      <td>1.733401</td>\n",
              "      <td>1.336800</td>\n",
              "      <td>1.822016</td>\n",
              "      <td>0.820940</td>\n",
              "      <td>0</td>\n",
              "    </tr>\n",
              "    <tr>\n",
              "      <th>256</th>\n",
              "      <td>1.540126</td>\n",
              "      <td>2.206141</td>\n",
              "      <td>1.714788</td>\n",
              "      <td>1.570260</td>\n",
              "      <td>-0.267602</td>\n",
              "      <td>1.932274</td>\n",
              "      <td>1.124934</td>\n",
              "      <td>1.689012</td>\n",
              "      <td>0.297119</td>\n",
              "      <td>-0.067706</td>\n",
              "      <td>1.578769</td>\n",
              "      <td>-0.032392</td>\n",
              "      <td>2.124642</td>\n",
              "      <td>1.453497</td>\n",
              "      <td>-0.228336</td>\n",
              "      <td>1.239175</td>\n",
              "      <td>0.223355</td>\n",
              "      <td>0.550517</td>\n",
              "      <td>-0.143151</td>\n",
              "      <td>0.551149</td>\n",
              "      <td>1.818352</td>\n",
              "      <td>1.724968</td>\n",
              "      <td>2.124886</td>\n",
              "      <td>1.837752</td>\n",
              "      <td>-0.187118</td>\n",
              "      <td>1.772508</td>\n",
              "      <td>0.733597</td>\n",
              "      <td>1.210420</td>\n",
              "      <td>-0.133881</td>\n",
              "      <td>0.917364</td>\n",
              "      <td>0</td>\n",
              "    </tr>\n",
              "    <tr>\n",
              "      <th>...</th>\n",
              "      <td>...</td>\n",
              "      <td>...</td>\n",
              "      <td>...</td>\n",
              "      <td>...</td>\n",
              "      <td>...</td>\n",
              "      <td>...</td>\n",
              "      <td>...</td>\n",
              "      <td>...</td>\n",
              "      <td>...</td>\n",
              "      <td>...</td>\n",
              "      <td>...</td>\n",
              "      <td>...</td>\n",
              "      <td>...</td>\n",
              "      <td>...</td>\n",
              "      <td>...</td>\n",
              "      <td>...</td>\n",
              "      <td>...</td>\n",
              "      <td>...</td>\n",
              "      <td>...</td>\n",
              "      <td>...</td>\n",
              "      <td>...</td>\n",
              "      <td>...</td>\n",
              "      <td>...</td>\n",
              "      <td>...</td>\n",
              "      <td>...</td>\n",
              "      <td>...</td>\n",
              "      <td>...</td>\n",
              "      <td>...</td>\n",
              "      <td>...</td>\n",
              "      <td>...</td>\n",
              "      <td>...</td>\n",
              "    </tr>\n",
              "    <tr>\n",
              "      <th>265</th>\n",
              "      <td>1.875263</td>\n",
              "      <td>2.753002</td>\n",
              "      <td>1.801287</td>\n",
              "      <td>2.173210</td>\n",
              "      <td>-0.118866</td>\n",
              "      <td>0.188738</td>\n",
              "      <td>0.601392</td>\n",
              "      <td>0.968328</td>\n",
              "      <td>-0.155598</td>\n",
              "      <td>-0.858729</td>\n",
              "      <td>2.767643</td>\n",
              "      <td>0.726003</td>\n",
              "      <td>2.417205</td>\n",
              "      <td>3.506257</td>\n",
              "      <td>-0.830027</td>\n",
              "      <td>-0.597914</td>\n",
              "      <td>-0.346946</td>\n",
              "      <td>-0.408142</td>\n",
              "      <td>-0.832088</td>\n",
              "      <td>-0.565828</td>\n",
              "      <td>3.359046</td>\n",
              "      <td>3.498337</td>\n",
              "      <td>3.179304</td>\n",
              "      <td>4.485168</td>\n",
              "      <td>0.338913</td>\n",
              "      <td>0.064472</td>\n",
              "      <td>0.345477</td>\n",
              "      <td>0.781030</td>\n",
              "      <td>-0.052992</td>\n",
              "      <td>-0.097854</td>\n",
              "      <td>0</td>\n",
              "    </tr>\n",
              "    <tr>\n",
              "      <th>232</th>\n",
              "      <td>-0.825712</td>\n",
              "      <td>3.378983</td>\n",
              "      <td>-0.872369</td>\n",
              "      <td>-0.762473</td>\n",
              "      <td>-1.320851</td>\n",
              "      <td>-1.300090</td>\n",
              "      <td>-1.052512</td>\n",
              "      <td>-1.095861</td>\n",
              "      <td>0.121873</td>\n",
              "      <td>-0.640418</td>\n",
              "      <td>-0.654249</td>\n",
              "      <td>0.780434</td>\n",
              "      <td>-0.681686</td>\n",
              "      <td>-0.547338</td>\n",
              "      <td>-0.894029</td>\n",
              "      <td>-1.043186</td>\n",
              "      <td>-0.950636</td>\n",
              "      <td>-1.358853</td>\n",
              "      <td>-0.167367</td>\n",
              "      <td>-0.476939</td>\n",
              "      <td>-0.809525</td>\n",
              "      <td>2.622237</td>\n",
              "      <td>-0.858464</td>\n",
              "      <td>-0.720187</td>\n",
              "      <td>-1.421536</td>\n",
              "      <td>-1.179499</td>\n",
              "      <td>-1.194624</td>\n",
              "      <td>-1.287960</td>\n",
              "      <td>0.016573</td>\n",
              "      <td>-0.602692</td>\n",
              "      <td>1</td>\n",
              "    </tr>\n",
              "    <tr>\n",
              "      <th>222</th>\n",
              "      <td>-1.121087</td>\n",
              "      <td>-0.409482</td>\n",
              "      <td>-1.105917</td>\n",
              "      <td>-0.972083</td>\n",
              "      <td>0.693131</td>\n",
              "      <td>-0.366161</td>\n",
              "      <td>-0.892901</td>\n",
              "      <td>-0.767865</td>\n",
              "      <td>0.359185</td>\n",
              "      <td>0.890594</td>\n",
              "      <td>-0.571959</td>\n",
              "      <td>0.000266</td>\n",
              "      <td>-0.606442</td>\n",
              "      <td>-0.556359</td>\n",
              "      <td>0.286019</td>\n",
              "      <td>-0.641508</td>\n",
              "      <td>-0.774539</td>\n",
              "      <td>-0.676761</td>\n",
              "      <td>0.705609</td>\n",
              "      <td>-0.012824</td>\n",
              "      <td>-1.055953</td>\n",
              "      <td>-0.462024</td>\n",
              "      <td>-1.052072</td>\n",
              "      <td>-0.887716</td>\n",
              "      <td>0.360831</td>\n",
              "      <td>-0.701440</td>\n",
              "      <td>-0.990537</td>\n",
              "      <td>-0.896180</td>\n",
              "      <td>0.249533</td>\n",
              "      <td>0.223003</td>\n",
              "      <td>1</td>\n",
              "    </tr>\n",
              "    <tr>\n",
              "      <th>463</th>\n",
              "      <td>-0.717787</td>\n",
              "      <td>-0.216335</td>\n",
              "      <td>-0.745091</td>\n",
              "      <td>-0.688811</td>\n",
              "      <td>-0.802766</td>\n",
              "      <td>-0.867807</td>\n",
              "      <td>-0.692147</td>\n",
              "      <td>-0.803461</td>\n",
              "      <td>-1.079287</td>\n",
              "      <td>-0.596472</td>\n",
              "      <td>-0.806919</td>\n",
              "      <td>-0.818729</td>\n",
              "      <td>-0.773762</td>\n",
              "      <td>-0.603883</td>\n",
              "      <td>-0.110664</td>\n",
              "      <td>-0.473280</td>\n",
              "      <td>-0.367835</td>\n",
              "      <td>-0.697362</td>\n",
              "      <td>0.084477</td>\n",
              "      <td>-0.388428</td>\n",
              "      <td>-0.724621</td>\n",
              "      <td>-0.269869</td>\n",
              "      <td>-0.732172</td>\n",
              "      <td>-0.677646</td>\n",
              "      <td>0.080281</td>\n",
              "      <td>-0.467340</td>\n",
              "      <td>-0.413491</td>\n",
              "      <td>-0.483082</td>\n",
              "      <td>0.500289</td>\n",
              "      <td>-0.294580</td>\n",
              "      <td>1</td>\n",
              "    </tr>\n",
              "    <tr>\n",
              "      <th>536</th>\n",
              "      <td>0.040531</td>\n",
              "      <td>0.758706</td>\n",
              "      <td>0.074182</td>\n",
              "      <td>-0.071356</td>\n",
              "      <td>0.529451</td>\n",
              "      <td>0.209585</td>\n",
              "      <td>0.721919</td>\n",
              "      <td>0.321673</td>\n",
              "      <td>0.417600</td>\n",
              "      <td>-0.422107</td>\n",
              "      <td>-0.730764</td>\n",
              "      <td>1.150560</td>\n",
              "      <td>-0.480704</td>\n",
              "      <td>-0.479573</td>\n",
              "      <td>-0.309339</td>\n",
              "      <td>0.019665</td>\n",
              "      <td>0.482643</td>\n",
              "      <td>0.156348</td>\n",
              "      <td>-0.730382</td>\n",
              "      <td>-0.014715</td>\n",
              "      <td>-0.202773</td>\n",
              "      <td>1.399280</td>\n",
              "      <td>-0.088202</td>\n",
              "      <td>-0.267700</td>\n",
              "      <td>0.246858</td>\n",
              "      <td>0.121089</td>\n",
              "      <td>0.725441</td>\n",
              "      <td>0.328800</td>\n",
              "      <td>-0.328014</td>\n",
              "      <td>-0.024151</td>\n",
              "      <td>0</td>\n",
              "    </tr>\n",
              "  </tbody>\n",
              "</table>\n",
              "<p>569 rows × 31 columns</p>\n",
              "</div>"
            ],
            "text/plain": [
              "     mean radius  mean texture  ...  worst fractal dimension  label\n",
              "396    -0.175320     -0.093001  ...                -0.392666      1\n",
              "331    -0.325847      0.014044  ...                 0.427488      1\n",
              "49     -0.181000      0.700529  ...                -0.818814      1\n",
              "28      0.333066      1.391668  ...                 0.820940      0\n",
              "256     1.540126      2.206141  ...                 0.917364      0\n",
              "..           ...           ...  ...                      ...    ...\n",
              "265     1.875263      2.753002  ...                -0.097854      0\n",
              "232    -0.825712      3.378983  ...                -0.602692      1\n",
              "222    -1.121087     -0.409482  ...                 0.223003      1\n",
              "463    -0.717787     -0.216335  ...                -0.294580      1\n",
              "536     0.040531      0.758706  ...                -0.024151      0\n",
              "\n",
              "[569 rows x 31 columns]"
            ]
          },
          "metadata": {},
          "execution_count": 19
        }
      ]
    },
    {
      "cell_type": "code",
      "metadata": {
        "id": "j2WkLszaqnEh"
      },
      "source": [
        "#500 Training\n",
        "X_train = feature[:500]\n",
        "y_train = label[:500]\n",
        "\n",
        "#35 Validation\n",
        "X_val = feature[500:535]\n",
        "y_val = label[500:535]\n",
        "\n",
        "#34 Testing\n",
        "X_test = feature[535:]\n",
        "y_test = label[535:]"
      ],
      "execution_count": 20,
      "outputs": []
    },
    {
      "cell_type": "code",
      "metadata": {
        "id": "4BxHs_WVqo52"
      },
      "source": [
        "\n",
        "model = Sequential()\n",
        "\n",
        "model.add(Dense(32, activation = 'relu', input_dim = 30))\n",
        "model.add(Dense(64, activation = 'relu'))\n",
        "model.add(Dense(128, activation = 'relu'))\n",
        "model.add(Dense(64, activation = 'relu'))\n",
        "model.add(Dense(32, activation = 'relu'))\n",
        "model.add(Dense(1, activation = 'sigmoid'))\n",
        "\n",
        "model.compile( loss = 'binary_crossentropy' , optimizer = 'adam' , metrics = ['accuracy'])"
      ],
      "execution_count": 21,
      "outputs": []
    },
    {
      "cell_type": "code",
      "metadata": {
        "colab": {
          "base_uri": "https://localhost:8080/"
        },
        "id": "Dmvp1nijquXP",
        "outputId": "15e162e7-e3e5-4a07-b77b-7e7f7a9eb37a"
      },
      "source": [
        "\n",
        "model.fit( X_train , y_train, epochs = 10, batch_size = 5, validation_data = (X_val, y_val))"
      ],
      "execution_count": 22,
      "outputs": [
        {
          "output_type": "stream",
          "name": "stdout",
          "text": [
            "Epoch 1/10\n",
            "100/100 [==============================] - 1s 4ms/step - loss: 0.1976 - accuracy: 0.9300 - val_loss: 0.0274 - val_accuracy: 1.0000\n",
            "Epoch 2/10\n",
            "100/100 [==============================] - 0s 2ms/step - loss: 0.0662 - accuracy: 0.9740 - val_loss: 0.1965 - val_accuracy: 0.9714\n",
            "Epoch 3/10\n",
            "100/100 [==============================] - 0s 2ms/step - loss: 0.0455 - accuracy: 0.9860 - val_loss: 0.0227 - val_accuracy: 1.0000\n",
            "Epoch 4/10\n",
            "100/100 [==============================] - 0s 2ms/step - loss: 0.0446 - accuracy: 0.9880 - val_loss: 0.2125 - val_accuracy: 0.9429\n",
            "Epoch 5/10\n",
            "100/100 [==============================] - 0s 2ms/step - loss: 0.0262 - accuracy: 0.9860 - val_loss: 0.2559 - val_accuracy: 0.9429\n",
            "Epoch 6/10\n",
            "100/100 [==============================] - 0s 2ms/step - loss: 0.0328 - accuracy: 0.9880 - val_loss: 0.0085 - val_accuracy: 1.0000\n",
            "Epoch 7/10\n",
            "100/100 [==============================] - 0s 2ms/step - loss: 0.0171 - accuracy: 0.9900 - val_loss: 0.0630 - val_accuracy: 0.9714\n",
            "Epoch 8/10\n",
            "100/100 [==============================] - 0s 2ms/step - loss: 0.0146 - accuracy: 0.9940 - val_loss: 0.3151 - val_accuracy: 0.9714\n",
            "Epoch 9/10\n",
            "100/100 [==============================] - 0s 2ms/step - loss: 0.0121 - accuracy: 0.9960 - val_loss: 0.0074 - val_accuracy: 1.0000\n",
            "Epoch 10/10\n",
            "100/100 [==============================] - 0s 2ms/step - loss: 0.0060 - accuracy: 0.9980 - val_loss: 0.0676 - val_accuracy: 0.9714\n"
          ]
        },
        {
          "output_type": "execute_result",
          "data": {
            "text/plain": [
              "<keras.callbacks.History at 0x7f0743143790>"
            ]
          },
          "metadata": {},
          "execution_count": 22
        }
      ]
    },
    {
      "cell_type": "code",
      "metadata": {
        "colab": {
          "base_uri": "https://localhost:8080/"
        },
        "id": "eAN9luH8qwen",
        "outputId": "349eaef1-43eb-4671-8148-66b63e626bc7"
      },
      "source": [
        "model.evaluate(X_test , y_test)"
      ],
      "execution_count": 23,
      "outputs": [
        {
          "output_type": "stream",
          "name": "stdout",
          "text": [
            "2/2 [==============================] - 0s 6ms/step - loss: 2.5219e-05 - accuracy: 1.0000\n"
          ]
        },
        {
          "output_type": "execute_result",
          "data": {
            "text/plain": [
              "[2.5219040253432468e-05, 1.0]"
            ]
          },
          "metadata": {},
          "execution_count": 23
        }
      ]
    },
    {
      "cell_type": "code",
      "metadata": {
        "colab": {
          "base_uri": "https://localhost:8080/"
        },
        "id": "0zf2xjJqqy5U",
        "outputId": "3be2f91d-6597-48b4-e6ac-72daff108fd2"
      },
      "source": [
        "model.evaluate(X_val , y_val)"
      ],
      "execution_count": 24,
      "outputs": [
        {
          "output_type": "stream",
          "name": "stdout",
          "text": [
            "2/2 [==============================] - 0s 7ms/step - loss: 0.0676 - accuracy: 0.9714\n"
          ]
        },
        {
          "output_type": "execute_result",
          "data": {
            "text/plain": [
              "[0.06759785115718842, 0.9714285731315613]"
            ]
          },
          "metadata": {},
          "execution_count": 24
        }
      ]
    },
    {
      "cell_type": "code",
      "metadata": {
        "colab": {
          "base_uri": "https://localhost:8080/"
        },
        "id": "P9mZj-4sq15I",
        "outputId": "99c05edd-7780-41d4-c561-eb26dec558b6"
      },
      "source": [
        "for i in range(30):\n",
        "  sample = X_test[i]\n",
        "  sample = np.reshape(sample, (1,30))\n",
        "\n",
        "  if (model.predict(sample)[0][0] > 0.5):\n",
        "    print(\"-Benign\")\n",
        "  else:\n",
        "    print(\"-Malignant\")\n",
        "\n",
        "  if (y_test[i] == 1):\n",
        "    print(\"*Banign\")\n",
        "  else:\n",
        "    print(\"*Melignant\")\n",
        "  print(\"-----------\")"
      ],
      "execution_count": 25,
      "outputs": [
        {
          "output_type": "stream",
          "name": "stdout",
          "text": [
            "-Malignant\n",
            "*Melignant\n",
            "-----------\n",
            "-Malignant\n",
            "*Melignant\n",
            "-----------\n",
            "-Benign\n",
            "*Banign\n",
            "-----------\n",
            "-Benign\n",
            "*Banign\n",
            "-----------\n",
            "-Benign\n",
            "*Banign\n",
            "-----------\n",
            "-Benign\n",
            "*Banign\n",
            "-----------\n",
            "-Benign\n",
            "*Banign\n",
            "-----------\n",
            "-Benign\n",
            "*Banign\n",
            "-----------\n",
            "-Benign\n",
            "*Banign\n",
            "-----------\n",
            "-Malignant\n",
            "*Melignant\n",
            "-----------\n",
            "-Benign\n",
            "*Banign\n",
            "-----------\n",
            "-Benign\n",
            "*Banign\n",
            "-----------\n",
            "-Benign\n",
            "*Banign\n",
            "-----------\n",
            "-Benign\n",
            "*Banign\n",
            "-----------\n",
            "-Benign\n",
            "*Banign\n",
            "-----------\n",
            "-Benign\n",
            "*Banign\n",
            "-----------\n",
            "-Malignant\n",
            "*Melignant\n",
            "-----------\n",
            "-Benign\n",
            "*Banign\n",
            "-----------\n",
            "-Benign\n",
            "*Banign\n",
            "-----------\n",
            "-Malignant\n",
            "*Melignant\n",
            "-----------\n",
            "-Benign\n",
            "*Banign\n",
            "-----------\n",
            "-Benign\n",
            "*Banign\n",
            "-----------\n",
            "-Malignant\n",
            "*Melignant\n",
            "-----------\n",
            "-Benign\n",
            "*Banign\n",
            "-----------\n",
            "-Benign\n",
            "*Banign\n",
            "-----------\n",
            "-Benign\n",
            "*Banign\n",
            "-----------\n",
            "-Malignant\n",
            "*Melignant\n",
            "-----------\n",
            "-Benign\n",
            "*Banign\n",
            "-----------\n",
            "-Benign\n",
            "*Banign\n",
            "-----------\n",
            "-Malignant\n",
            "*Melignant\n",
            "-----------\n"
          ]
        }
      ]
    },
    {
      "cell_type": "code",
      "metadata": {
        "colab": {
          "base_uri": "https://localhost:8080/"
        },
        "id": "sv9e4w2hq3-h",
        "outputId": "e911fed9-e886-4859-e3cd-32ae220fee47"
      },
      "source": [
        "\n",
        "t = 0\n",
        "for i in y_val:\n",
        "  if (i == 1):\n",
        "    t += 1\n",
        "\n",
        "print(t)"
      ],
      "execution_count": 26,
      "outputs": [
        {
          "output_type": "stream",
          "name": "stdout",
          "text": [
            "21\n"
          ]
        }
      ]
    },
    {
      "cell_type": "code",
      "metadata": {
        "colab": {
          "base_uri": "https://localhost:8080/"
        },
        "id": "0Ma2Izfhq5s4",
        "outputId": "7f478008-d39e-4c13-f60c-cd8df1af5ee2"
      },
      "source": [
        "t = 0\n",
        "for i in y_test:\n",
        "  if (i == 1):\n",
        "    t += 1\n",
        "\n",
        "print(t)"
      ],
      "execution_count": 27,
      "outputs": [
        {
          "output_type": "stream",
          "name": "stdout",
          "text": [
            "25\n"
          ]
        }
      ]
    },
    {
      "cell_type": "code",
      "metadata": {
        "colab": {
          "base_uri": "https://localhost:8080/"
        },
        "id": "NIo5hfvAq7V5",
        "outputId": "d9ba839f-7144-4d26-a028-42048b65288d"
      },
      "source": [
        "\n",
        "X_test[0] * -.1"
      ],
      "execution_count": 28,
      "outputs": [
        {
          "output_type": "execute_result",
          "data": {
            "text/plain": [
              "array([-0.1437881 ,  0.07794857, -0.14140994, -0.14280549,  0.06703985,\n",
              "       -0.02683343, -0.03829352, -0.12316847,  0.02578246,  0.1564696 ,\n",
              "       -0.2146859 ,  0.10582223, -0.20320713, -0.17373193, -0.07883723,\n",
              "       -0.0283464 , -0.03828404, -0.26186906, -0.13340068,  0.01637465,\n",
              "       -0.11929631,  0.12811285, -0.11717388, -0.10800912,  0.08753411,\n",
              "        0.03350233,  0.02196713, -0.09607035,  0.07405483,  0.11878833])"
            ]
          },
          "metadata": {},
          "execution_count": 28
        }
      ]
    },
    {
      "cell_type": "code",
      "metadata": {
        "colab": {
          "base_uri": "https://localhost:8080/"
        },
        "id": "bqYQ9szcq9Pt",
        "outputId": "31f1c7d8-cf1e-425e-a95f-c8eb00bef9b4"
      },
      "source": [
        "348/350"
      ],
      "execution_count": 29,
      "outputs": [
        {
          "output_type": "execute_result",
          "data": {
            "text/plain": [
              "0.9942857142857143"
            ]
          },
          "metadata": {},
          "execution_count": 29
        }
      ]
    },
    {
      "cell_type": "code",
      "metadata": {
        "colab": {
          "base_uri": "https://localhost:8080/"
        },
        "id": "0xKZNQbqq_S9",
        "outputId": "74fb447a-0ccf-433a-bbd2-a34acfe35d09"
      },
      "source": [
        "347/350"
      ],
      "execution_count": 30,
      "outputs": [
        {
          "output_type": "execute_result",
          "data": {
            "text/plain": [
              "0.9914285714285714"
            ]
          },
          "metadata": {},
          "execution_count": 30
        }
      ]
    },
    {
      "cell_type": "code",
      "metadata": {
        "colab": {
          "base_uri": "https://localhost:8080/"
        },
        "id": "yizw2oDarE-M",
        "outputId": "f0ba790b-8bc2-4f29-e0d8-1182ea65e8d9"
      },
      "source": [
        "\n",
        "32/35"
      ],
      "execution_count": 32,
      "outputs": [
        {
          "output_type": "execute_result",
          "data": {
            "text/plain": [
              "0.9142857142857143"
            ]
          },
          "metadata": {},
          "execution_count": 32
        }
      ]
    },
    {
      "cell_type": "code",
      "metadata": {
        "id": "X5hwCSferG9n"
      },
      "source": [
        ""
      ],
      "execution_count": null,
      "outputs": []
    }
  ]
}